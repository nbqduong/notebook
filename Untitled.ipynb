{
 "cells": [
  {
   "cell_type": "markdown",
   "id": "f6ea5a2f-01d4-4a2f-9845-15d0dd17f5c2",
   "metadata": {},
   "source": [
    "h1 dahjf\n",
    "# adhfjklasd\n",
    "ajsdkfla\n"
   ]
  },
  {
   "cell_type": "code",
   "execution_count": 2,
   "id": "aae2b6a8-969a-4d94-b06d-0a76eb100801",
   "metadata": {},
   "outputs": [
    {
     "name": "stdout",
     "output_type": "stream",
     "text": [
      "tejlk;sfksst\n"
     ]
    }
   ],
   "source": [
    "print(\"tejlk;sfksst\")\n",
    "print(\"aabbccdd\")"
   ]
  },
  {
   "cell_type": "raw",
   "id": "70301ced-431c-443a-a0ad-b92692d2a757",
   "metadata": {},
   "source": [
    "ateat"
   ]
  },
  {
   "cell_type": "code",
   "execution_count": null,
   "id": "3ae36008-d7be-48b4-adae-bc7706d3d1d5",
   "metadata": {},
   "outputs": [],
   "source": [
    "#include stdio\n",
    "pr"
   ]
  }
 ],
 "metadata": {
  "kernelspec": {
   "display_name": "Python 3 (ipykernel)",
   "language": "python",
   "name": "python3"
  },
  "language_info": {
   "codemirror_mode": {
    "name": "ipython",
    "version": 3
   },
   "file_extension": ".py",
   "mimetype": "text/x-python",
   "name": "python",
   "nbconvert_exporter": "python",
   "pygments_lexer": "ipython3",
   "version": "3.12.5"
  }
 },
 "nbformat": 4,
 "nbformat_minor": 5
}
